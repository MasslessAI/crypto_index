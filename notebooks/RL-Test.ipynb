{
 "cells": [
  {
   "cell_type": "code",
   "execution_count": 1,
   "metadata": {
    "collapsed": false
   },
   "outputs": [
    {
     "name": "stderr",
     "output_type": "stream",
     "text": [
      "Using TensorFlow backend.\n"
     ]
    }
   ],
   "source": [
    "import sys\n",
    "sys.path.append('../')\n",
    "\n",
    "import os\n",
    "\n",
    "import cqt\n",
    "import cqt.env.mkt_env as env \n",
    "import cqt.env.mkt_env_spot as envspot\n",
    "import cqt.ledger.ledger as ledger\n",
    "import cqt.strats.strategy as stg\n",
    "import cqt.strats.strategy_long_short_average as stg_ls\n",
    "import pandas as pd\n",
    "import pickle\n",
    "\n",
    "from datetime import datetime\n",
    "from datetime import timedelta\n",
    "import matplotlib.pyplot as plt\n",
    "\n",
    "outDir = '../performance_tracking'\n",
    "if not os.path.exists(outDir):\n",
    "    os.makedirs(outDir)\n",
    "    print(outDir)\n",
    "    \n",
    "pickleFileDir = '../data/pickle'\n",
    "# btcFileName = 'coinapi_ohlcv_GEMINI_SPOT_BTC_USD_1MIN_data.pickle'\n",
    "# btcFilePath = os.path.join(pickleFileDir, btcFileName)\n",
    "# file_btc_eth = open(btcFilePath,'rb')\n",
    "\n",
    "file_btc = '../data/pickle/coinapi_ohlcv_GEMINI_SPOT_BTC_USD_1DAY_data.pickle'\n",
    "df_btc = pd.read_pickle(file_btc)\n",
    "file_eth = '../data/pickle/coinapi_ohlcv_GEMINI_SPOT_ETH_USD_1DAY_data.pickle'\n",
    "df_eth = pd.read_pickle(file_eth)\n",
    "\n",
    "config = {'asset_type': 'spot'}\n",
    "comp_btc = envspot.MktEnvSpot('btc', df_btc, config)\n",
    "comp_eth = envspot.MktEnvSpot('eth', df_eth, config)\n",
    "\n",
    "model_btc_eth = env.MktEnv([])\n",
    "model_btc_eth.insert_section(comp_btc)\n",
    "model_btc_eth.insert_section(comp_eth)\n",
    "# model_btc_eth = pickle.load(open(os.path.join(pickleFileDir, 'model_btc_eth.pickle'), 'rb'))\n",
    "# os.listdir('../data/pickle')\n",
    "# model_btc_eth.\n",
    "\n",
    "\n",
    "cash = 10000\n",
    "assets = {'btc': 0, 'eth': 0}\n",
    "ini_pfo = ledger.Ledger(assets, cash)\n",
    "\n",
    "comp_btc.target\n",
    "\n",
    "import copy\n",
    "start_date_str = '2017-10-01'\n",
    "start_date = datetime.strptime(start_date_str, '%Y-%m-%d')\n",
    "comp_btc.get_price_close(start_date)\n",
    "\n",
    "#prices = copy.deepcopy(model_btc_eth.get_section('btc').data)\n",
    "#prices.rename(columns={'Open': 'open', 'High': 'high', 'Low': 'low', 'Close': 'close', 'Volume (BTC)': 'volume'}, inplace=True)\n",
    "#print(prices)\n",
    "#close = prices['close'].values\n",
    "#print(close)\n",
    "#print(df_btc.index.get_loc(start_date))\n",
    "\n",
    "import cqt.strats.StrategyTensorFlow as stg_tf\n",
    "ls_rule = {'method' : 'moving_average', 'window_size' : [3, 5], 'tolerance_up' : 0.03, 'tolerance_down' : 0.03}\n",
    "\n",
    "#strats_for_training = stg_tf.StrategyTensorFlow(model_btc_eth, ini_pfo, ls_rule)\n",
    "#strats_for_training.train()"
   ]
  },
  {
   "cell_type": "code",
   "execution_count": null,
   "metadata": {
    "collapsed": false
   },
   "outputs": [],
   "source": [
    "strats = stg_tf.StrategyTensorFlow(model_btc_eth, ini_pfo, ls_rule, '69-model.json', '69-model.h5', 'scaler.pkl')\n",
    "\n",
    "start_date_str = '2017-10-01'\n",
    "start_date = datetime.strptime(start_date_str, '%Y-%m-%d')\n",
    "report = strats.back_testing(start_date)\n",
    "#print(report['pnl'][-1:])\n",
    "#doubleDipReport = report.copy()"
   ]
  },
  {
   "cell_type": "code",
   "execution_count": null,
   "metadata": {
    "collapsed": false
   },
   "outputs": [],
   "source": [
    "#print(model_btc_eth.get_section('btc').data.index[6])"
   ]
  },
  {
   "cell_type": "code",
   "execution_count": 2,
   "metadata": {
    "collapsed": false
   },
   "outputs": [],
   "source": [
    "strats_train = stg_tf.StrategyTensorFlow(model_btc_eth, ini_pfo, ls_rule)"
   ]
  },
  {
   "cell_type": "code",
   "execution_count": 3,
   "metadata": {
    "collapsed": false
   },
   "outputs": [
    {
     "name": "stderr",
     "output_type": "stream",
     "text": [
      "../cqt/strats/StrategyTensorFlow.py:152: UserWarning: Update your `Dense` call to the Keras 2 API: `Dense(4, kernel_initializer=\"lecun_uniform\")`\n",
      "  model.add(Dense(4, init='lecun_uniform'))\n",
      "../cqt/strats/StrategyTensorFlow.py:244: UserWarning: The `nb_epoch` argument in `fit` has been renamed `epochs`.\n",
      "  model.fit(X_train, y_train, batch_size=batchSize, nb_epoch=1, verbose=0)\n"
     ]
    },
    {
     "name": "stdout",
     "output_type": "stream",
     "text": [
      "debug final 12347.582295697093\n",
      "Epoch #: 0 Reward: 12347.582296 Epsilon: 1.000000\n",
      "Saved model to disk\n",
      "debug final 18073.623502624403\n",
      "Epoch #: 1 Reward: 18073.623503 Epsilon: 0.900000\n",
      "Saved model to disk\n",
      "debug final 28751.84094870163\n",
      "Epoch #: 2 Reward: 28751.840949 Epsilon: 0.800000\n",
      "Saved model to disk\n",
      "debug final 17845.486948596932\n",
      "Epoch #: 3 Reward: 17845.486949 Epsilon: 0.700000\n",
      "Saved model to disk\n",
      "debug final 11268.014731395177\n",
      "Epoch #: 4 Reward: 11268.014731 Epsilon: 0.600000\n",
      "Saved model to disk\n",
      "debug final 45899.27029995542\n",
      "Epoch #: 5 Reward: 45899.270300 Epsilon: 0.500000\n",
      "Saved model to disk\n",
      "debug final 16874.68372885194\n",
      "Epoch #: 6 Reward: 16874.683729 Epsilon: 0.400000\n",
      "Saved model to disk\n",
      "debug final 21085.8567951058\n",
      "Epoch #: 7 Reward: 21085.856795 Epsilon: 0.300000\n",
      "Saved model to disk\n",
      "debug final 31454.661526532494\n",
      "Epoch #: 8 Reward: 31454.661527 Epsilon: 0.200000\n",
      "Saved model to disk\n",
      "debug final 59027.668511278156\n",
      "Epoch #: 9 Reward: 59027.668511 Epsilon: 0.100000\n",
      "Saved model to disk\n"
     ]
    }
   ],
   "source": [
    "strats_train.train()"
   ]
  },
  {
   "cell_type": "code",
   "execution_count": null,
   "metadata": {
    "collapsed": true
   },
   "outputs": [],
   "source": []
  }
 ],
 "metadata": {
  "kernelspec": {
   "display_name": "Python 3",
   "language": "python",
   "name": "python3"
  },
  "language_info": {
   "codemirror_mode": {
    "name": "ipython",
    "version": 3
   },
   "file_extension": ".py",
   "mimetype": "text/x-python",
   "name": "python",
   "nbconvert_exporter": "python",
   "pygments_lexer": "ipython3",
   "version": "3.6.3"
  }
 },
 "nbformat": 4,
 "nbformat_minor": 2
}
