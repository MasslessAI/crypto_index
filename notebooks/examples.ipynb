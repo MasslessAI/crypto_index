{
 "cells": [
  {
   "cell_type": "code",
   "execution_count": 1,
   "metadata": {},
   "outputs": [],
   "source": [
    "import sys\n",
    "sys.path.append('../')\n",
    "\n",
    "import cii\n",
    "import cii.datagen as dg\n",
    "import cii.model as md"
   ]
  },
  {
   "cell_type": "code",
   "execution_count": 2,
   "metadata": {},
   "outputs": [],
   "source": [
    "key = '4A2F2B3F-B60E-4FFB-919B-D452A8022E69'\n",
    "source = 'coinapi'"
   ]
  },
  {
   "cell_type": "code",
   "execution_count": 3,
   "metadata": {},
   "outputs": [],
   "source": [
    "request_btc = {'request_type' : 'ohlcv', \\\n",
    "               'symbol_id' : 'BITSTAMP_SPOT_BTC_USD', \\\n",
    "               'period_id' : '1DAY', \\\n",
    "               'time_start' : '2017-01-01T00:00:00', \\\n",
    "               'time_end' : '2018-04-01T00:00:00', \\\n",
    "               'limit' : '100000'}\n",
    "\n",
    "df_btc = dg.data_gen(source, request_btc, key, True)"
   ]
  },
  {
   "cell_type": "code",
   "execution_count": 8,
   "metadata": {},
   "outputs": [],
   "source": [
    "config_btc = {'indicator_type' : 'moving_average',\\\n",
    "             'window_size' : 30,\\\n",
    "             'tolerance' : 0.05}\n",
    "\n",
    "model = md.SimModel(df_btc, config_btc)"
   ]
  },
  {
   "cell_type": "code",
   "execution_count": 9,
   "metadata": {},
   "outputs": [
    {
     "data": {
      "text/plain": [
       "False"
      ]
     },
     "execution_count": 9,
     "metadata": {},
     "output_type": "execute_result"
    }
   ],
   "source": [
    "model.is_bear()"
   ]
  },
  {
   "cell_type": "code",
   "execution_count": 10,
   "metadata": {},
   "outputs": [
    {
     "data": {
      "text/plain": [
       "{'indicator_type': 'moving_average', 'tolerance': 0.05, 'window_size': 30}"
      ]
     },
     "execution_count": 10,
     "metadata": {},
     "output_type": "execute_result"
    }
   ],
   "source": [
    "model.model_config"
   ]
  },
  {
   "cell_type": "code",
   "execution_count": 11,
   "metadata": {},
   "outputs": [
    {
     "data": {
      "text/html": [
       "<div>\n",
       "<style>\n",
       "    .dataframe thead tr:only-child th {\n",
       "        text-align: right;\n",
       "    }\n",
       "\n",
       "    .dataframe thead th {\n",
       "        text-align: left;\n",
       "    }\n",
       "\n",
       "    .dataframe tbody tr th {\n",
       "        vertical-align: top;\n",
       "    }\n",
       "</style>\n",
       "<table border=\"1\" class=\"dataframe\">\n",
       "  <thead>\n",
       "    <tr style=\"text-align: right;\">\n",
       "      <th></th>\n",
       "      <th>price_close</th>\n",
       "      <th>price_high</th>\n",
       "      <th>price_low</th>\n",
       "      <th>price_open</th>\n",
       "      <th>time_close</th>\n",
       "      <th>time_open</th>\n",
       "      <th>time_period_end</th>\n",
       "      <th>time_period_start</th>\n",
       "      <th>trades_count</th>\n",
       "      <th>volume_traded</th>\n",
       "      <th>request_type</th>\n",
       "      <th>symbol_id</th>\n",
       "      <th>period_id</th>\n",
       "      <th>time_start</th>\n",
       "      <th>time_end</th>\n",
       "      <th>limit</th>\n",
       "    </tr>\n",
       "  </thead>\n",
       "  <tbody>\n",
       "    <tr>\n",
       "      <th>0</th>\n",
       "      <td>997.75</td>\n",
       "      <td>1005.00</td>\n",
       "      <td>960.53</td>\n",
       "      <td>966.34</td>\n",
       "      <td>2017-01-01T23:59:46.0000000Z</td>\n",
       "      <td>2017-01-01T00:01:08.0000000Z</td>\n",
       "      <td>2017-01-02T00:00:00.0000000Z</td>\n",
       "      <td>2017-01-01T00:00:00.0000000Z</td>\n",
       "      <td>5423</td>\n",
       "      <td>6850.593309</td>\n",
       "      <td>ohlcv</td>\n",
       "      <td>BITSTAMP_SPOT_BTC_USD</td>\n",
       "      <td>1DAY</td>\n",
       "      <td>2017-01-01T00:00:00</td>\n",
       "      <td>2018-04-01T00:00:00</td>\n",
       "      <td>100000</td>\n",
       "    </tr>\n",
       "    <tr>\n",
       "      <th>1</th>\n",
       "      <td>1012.54</td>\n",
       "      <td>1032.00</td>\n",
       "      <td>990.01</td>\n",
       "      <td>997.75</td>\n",
       "      <td>2017-01-02T23:59:37.0000000Z</td>\n",
       "      <td>2017-01-02T00:00:05.0000000Z</td>\n",
       "      <td>2017-01-03T00:00:00.0000000Z</td>\n",
       "      <td>2017-01-02T00:00:00.0000000Z</td>\n",
       "      <td>7815</td>\n",
       "      <td>8167.381030</td>\n",
       "      <td>ohlcv</td>\n",
       "      <td>BITSTAMP_SPOT_BTC_USD</td>\n",
       "      <td>1DAY</td>\n",
       "      <td>2017-01-01T00:00:00</td>\n",
       "      <td>2018-04-01T00:00:00</td>\n",
       "      <td>100000</td>\n",
       "    </tr>\n",
       "    <tr>\n",
       "      <th>2</th>\n",
       "      <td>1035.24</td>\n",
       "      <td>1039.00</td>\n",
       "      <td>999.99</td>\n",
       "      <td>1011.44</td>\n",
       "      <td>2017-01-03T23:59:32.0000000Z</td>\n",
       "      <td>2017-01-03T00:00:07.0000000Z</td>\n",
       "      <td>2017-01-04T00:00:00.0000000Z</td>\n",
       "      <td>2017-01-03T00:00:00.0000000Z</td>\n",
       "      <td>7871</td>\n",
       "      <td>9089.658025</td>\n",
       "      <td>ohlcv</td>\n",
       "      <td>BITSTAMP_SPOT_BTC_USD</td>\n",
       "      <td>1DAY</td>\n",
       "      <td>2017-01-01T00:00:00</td>\n",
       "      <td>2018-04-01T00:00:00</td>\n",
       "      <td>100000</td>\n",
       "    </tr>\n",
       "    <tr>\n",
       "      <th>3</th>\n",
       "      <td>1114.92</td>\n",
       "      <td>1139.89</td>\n",
       "      <td>1028.56</td>\n",
       "      <td>1035.51</td>\n",
       "      <td>2017-01-04T23:59:47.0000000Z</td>\n",
       "      <td>2017-01-04T00:00:03.0000000Z</td>\n",
       "      <td>2017-01-05T00:00:00.0000000Z</td>\n",
       "      <td>2017-01-04T00:00:00.0000000Z</td>\n",
       "      <td>15968</td>\n",
       "      <td>21562.456972</td>\n",
       "      <td>ohlcv</td>\n",
       "      <td>BITSTAMP_SPOT_BTC_USD</td>\n",
       "      <td>1DAY</td>\n",
       "      <td>2017-01-01T00:00:00</td>\n",
       "      <td>2018-04-01T00:00:00</td>\n",
       "      <td>100000</td>\n",
       "    </tr>\n",
       "    <tr>\n",
       "      <th>4</th>\n",
       "      <td>1004.74</td>\n",
       "      <td>1136.72</td>\n",
       "      <td>885.41</td>\n",
       "      <td>1114.38</td>\n",
       "      <td>2017-01-05T23:59:54.0000000Z</td>\n",
       "      <td>2017-01-05T00:00:00.0000000Z</td>\n",
       "      <td>2017-01-06T00:00:00.0000000Z</td>\n",
       "      <td>2017-01-05T00:00:00.0000000Z</td>\n",
       "      <td>22504</td>\n",
       "      <td>36018.535984</td>\n",
       "      <td>ohlcv</td>\n",
       "      <td>BITSTAMP_SPOT_BTC_USD</td>\n",
       "      <td>1DAY</td>\n",
       "      <td>2017-01-01T00:00:00</td>\n",
       "      <td>2018-04-01T00:00:00</td>\n",
       "      <td>100000</td>\n",
       "    </tr>\n",
       "  </tbody>\n",
       "</table>\n",
       "</div>"
      ],
      "text/plain": [
       "   price_close  price_high  price_low  price_open  \\\n",
       "0       997.75     1005.00     960.53      966.34   \n",
       "1      1012.54     1032.00     990.01      997.75   \n",
       "2      1035.24     1039.00     999.99     1011.44   \n",
       "3      1114.92     1139.89    1028.56     1035.51   \n",
       "4      1004.74     1136.72     885.41     1114.38   \n",
       "\n",
       "                     time_close                     time_open  \\\n",
       "0  2017-01-01T23:59:46.0000000Z  2017-01-01T00:01:08.0000000Z   \n",
       "1  2017-01-02T23:59:37.0000000Z  2017-01-02T00:00:05.0000000Z   \n",
       "2  2017-01-03T23:59:32.0000000Z  2017-01-03T00:00:07.0000000Z   \n",
       "3  2017-01-04T23:59:47.0000000Z  2017-01-04T00:00:03.0000000Z   \n",
       "4  2017-01-05T23:59:54.0000000Z  2017-01-05T00:00:00.0000000Z   \n",
       "\n",
       "                time_period_end             time_period_start  trades_count  \\\n",
       "0  2017-01-02T00:00:00.0000000Z  2017-01-01T00:00:00.0000000Z          5423   \n",
       "1  2017-01-03T00:00:00.0000000Z  2017-01-02T00:00:00.0000000Z          7815   \n",
       "2  2017-01-04T00:00:00.0000000Z  2017-01-03T00:00:00.0000000Z          7871   \n",
       "3  2017-01-05T00:00:00.0000000Z  2017-01-04T00:00:00.0000000Z         15968   \n",
       "4  2017-01-06T00:00:00.0000000Z  2017-01-05T00:00:00.0000000Z         22504   \n",
       "\n",
       "   volume_traded request_type              symbol_id period_id  \\\n",
       "0    6850.593309        ohlcv  BITSTAMP_SPOT_BTC_USD      1DAY   \n",
       "1    8167.381030        ohlcv  BITSTAMP_SPOT_BTC_USD      1DAY   \n",
       "2    9089.658025        ohlcv  BITSTAMP_SPOT_BTC_USD      1DAY   \n",
       "3   21562.456972        ohlcv  BITSTAMP_SPOT_BTC_USD      1DAY   \n",
       "4   36018.535984        ohlcv  BITSTAMP_SPOT_BTC_USD      1DAY   \n",
       "\n",
       "            time_start             time_end   limit  \n",
       "0  2017-01-01T00:00:00  2018-04-01T00:00:00  100000  \n",
       "1  2017-01-01T00:00:00  2018-04-01T00:00:00  100000  \n",
       "2  2017-01-01T00:00:00  2018-04-01T00:00:00  100000  \n",
       "3  2017-01-01T00:00:00  2018-04-01T00:00:00  100000  \n",
       "4  2017-01-01T00:00:00  2018-04-01T00:00:00  100000  "
      ]
     },
     "execution_count": 11,
     "metadata": {},
     "output_type": "execute_result"
    }
   ],
   "source": [
    "model.data_collection.head()"
   ]
  },
  {
   "cell_type": "code",
   "execution_count": 12,
   "metadata": {},
   "outputs": [],
   "source": [
    "config_btc = {'indicator_type' : 'moving_average',\\\n",
    "             'window_size' : 30,\\\n",
    "             'tolerance' : 0.005}\n",
    "\n",
    "model = md.SimModel(df_btc, config_btc)"
   ]
  },
  {
   "cell_type": "code",
   "execution_count": 13,
   "metadata": {},
   "outputs": [
    {
     "data": {
      "text/plain": [
       "True"
      ]
     },
     "execution_count": 13,
     "metadata": {},
     "output_type": "execute_result"
    }
   ],
   "source": [
    "model.is_bear()"
   ]
  },
  {
   "cell_type": "code",
   "execution_count": 14,
   "metadata": {},
   "outputs": [
    {
     "data": {
      "text/plain": [
       "{'indicator_type': 'moving_average', 'tolerance': 0.005, 'window_size': 30}"
      ]
     },
     "execution_count": 14,
     "metadata": {},
     "output_type": "execute_result"
    }
   ],
   "source": [
    "model.model_config"
   ]
  },
  {
   "cell_type": "code",
   "execution_count": null,
   "metadata": {},
   "outputs": [],
   "source": []
  }
 ],
 "metadata": {
  "kernelspec": {
   "display_name": "Python 3",
   "language": "python",
   "name": "python3"
  },
  "language_info": {
   "codemirror_mode": {
    "name": "ipython",
    "version": 3
   },
   "file_extension": ".py",
   "mimetype": "text/x-python",
   "name": "python",
   "nbconvert_exporter": "python",
   "pygments_lexer": "ipython3",
   "version": "3.6.2"
  }
 },
 "nbformat": 4,
 "nbformat_minor": 2
}
