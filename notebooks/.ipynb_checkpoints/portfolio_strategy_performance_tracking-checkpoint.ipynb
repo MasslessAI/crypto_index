{
 "cells": [
  {
   "cell_type": "code",
   "execution_count": 1,
   "metadata": {},
   "outputs": [],
   "source": [
    "import sys\n",
    "sys.path.append('../')\n",
    "\n",
    "import os\n",
    "\n",
    "import cqt\n",
    "import cqt.model as md\n",
    "import cqt.portfolio.portfolio as pfo\n",
    "import cqt.strategy.strategy as stg\n",
    "import cqt.strategy.strategy_bear_bull as stg_bb\n",
    "import cqt.strategy.strategy_long_short_average as stg_ls\n",
    "import pandas as pd\n",
    "import pickle\n",
    "\n",
    "from datetime import datetime\n",
    "from datetime import timedelta\n",
    "import matplotlib.pyplot as plt"
   ]
  },
  {
   "cell_type": "code",
   "execution_count": 2,
   "metadata": {},
   "outputs": [
    {
     "data": {
      "text/plain": [
       "['coinapi_ohlcv_BINANCE_SPOT_BTC_USDT_1DAY_data.pickle',\n",
       " 'coinapi_ohlcv_GEMINI_SPOT_BTC_USD_1DAY_data.pickle',\n",
       " 'coinapi_ohlcv_GEMINI_SPOT_BTC_USD_1HRS_data.pickle',\n",
       " 'coinapi_ohlcv_GEMINI_SPOT_ETH_USD_1DAY_data.pickle',\n",
       " 'coinapi_ohlcv_GEMINI_SPOT_ETH_USD_1HRS_data.pickle',\n",
       " 'gdax_products_BTC-USD_data.pickle',\n",
       " 'model_btc_eth.pickle']"
      ]
     },
     "execution_count": 2,
     "metadata": {},
     "output_type": "execute_result"
    }
   ],
   "source": [
    "os.listdir('../data/pickle')\n"
   ]
  },
  {
   "cell_type": "code",
   "execution_count": 3,
   "metadata": {},
   "outputs": [],
   "source": [
    "outDir = '../performance_tracking'\n",
    "if not os.path.exists(outDir):\n",
    "    os.makedirs(outDir)\n",
    "    print(outDir)"
   ]
  },
  {
   "cell_type": "code",
   "execution_count": 4,
   "metadata": {},
   "outputs": [],
   "source": [
    "pickleFileDir = '../data/pickle'\n",
    "# btcFileName = 'coinapi_ohlcv_GEMINI_SPOT_BTC_USD_1MIN_data.pickle'\n",
    "# btcFilePath = os.path.join(pickleFileDir, btcFileName)\n",
    "# file_btc_eth = open(btcFilePath,'rb')\n",
    "\n",
    "file_btc = '../data/pickle/coinapi_ohlcv_GEMINI_SPOT_BTC_USD_1DAY_data.pickle'\n",
    "df_btc = pd.read_pickle(file_btc)\n",
    "file_eth = '../data/pickle/coinapi_ohlcv_GEMINI_SPOT_eth_USD_1DAY_data.pickle'\n",
    "df_eth = pd.read_pickle(file_eth)\n"
   ]
  },
  {
   "cell_type": "code",
   "execution_count": 5,
   "metadata": {},
   "outputs": [],
   "source": [
    "model_config = {'asset_type': 'spot'}\n",
    "comp_btc = md.asset_model_component_spot.AssetModelComponentSpot('btc', df_btc, model_config)\n",
    "comp_eth = md.asset_model_component_spot.AssetModelComponentSpot('eth', df_eth, model_config)\n",
    "\n",
    "model_btc_eth = md.asset_model.AssetModel([])\n",
    "model_btc_eth.insert_component(comp_btc)\n",
    "model_btc_eth.insert_component(comp_eth)\n",
    "# model_btc_eth = pickle.load(open(os.path.join(pickleFileDir, 'model_btc_eth.pickle'), 'rb'))\n",
    "# os.listdir('../data/pickle')\n",
    "# model_btc_eth."
   ]
  },
  {
   "cell_type": "code",
   "execution_count": 6,
   "metadata": {},
   "outputs": [],
   "source": [
    "# init portfolio\n",
    "\n",
    "cash = 10000\n",
    "assets = {'btc': 0, 'eth': 0}\n",
    "ini_pfo = pfo.Portfolio(assets, cash)"
   ]
  },
  {
   "cell_type": "code",
   "execution_count": 7,
   "metadata": {},
   "outputs": [
    {
     "ename": "ValueError",
     "evalue": "can not merge DataFrame with instance of type <class 'pandas.core.series.Series'>",
     "output_type": "error",
     "traceback": [
      "\u001b[1;31m---------------------------------------------------------------------------\u001b[0m",
      "\u001b[1;31mValueError\u001b[0m                                Traceback (most recent call last)",
      "\u001b[1;32m<ipython-input-7-c5df61db54b1>\u001b[0m in \u001b[0;36m<module>\u001b[1;34m()\u001b[0m\n\u001b[0;32m      5\u001b[0m \u001b[0mstart_date_str\u001b[0m \u001b[1;33m=\u001b[0m \u001b[1;34m'2017-10-01'\u001b[0m\u001b[1;33m\u001b[0m\u001b[0m\n\u001b[0;32m      6\u001b[0m \u001b[0mstart_date\u001b[0m \u001b[1;33m=\u001b[0m \u001b[0mdatetime\u001b[0m\u001b[1;33m.\u001b[0m\u001b[0mstrptime\u001b[0m\u001b[1;33m(\u001b[0m\u001b[0mstart_date_str\u001b[0m\u001b[1;33m,\u001b[0m \u001b[1;34m'%Y-%m-%d'\u001b[0m\u001b[1;33m)\u001b[0m\u001b[1;33m\u001b[0m\u001b[0m\n\u001b[1;32m----> 7\u001b[1;33m \u001b[0mreport\u001b[0m \u001b[1;33m=\u001b[0m \u001b[0mstrats\u001b[0m\u001b[1;33m.\u001b[0m\u001b[0mback_testing\u001b[0m\u001b[1;33m(\u001b[0m\u001b[0mstart_date\u001b[0m\u001b[1;33m)\u001b[0m\u001b[1;33m\u001b[0m\u001b[0m\n\u001b[0m\u001b[0;32m      8\u001b[0m \u001b[1;33m\u001b[0m\u001b[0m\n\u001b[0;32m      9\u001b[0m \u001b[0mlongShortReport\u001b[0m \u001b[1;33m=\u001b[0m \u001b[0mreport\u001b[0m\u001b[1;33m.\u001b[0m\u001b[0mcopy\u001b[0m\u001b[1;33m(\u001b[0m\u001b[1;33m)\u001b[0m\u001b[1;33m\u001b[0m\u001b[0m\n",
      "\u001b[1;32m~\\_github\\crypto_index\\cqt\\strategy\\strategy.py\u001b[0m in \u001b[0;36mback_testing\u001b[1;34m(self, start_date, end_date, lag)\u001b[0m\n\u001b[0;32m     31\u001b[0m \u001b[1;33m\u001b[0m\u001b[0m\n\u001b[0;32m     32\u001b[0m         \u001b[0mreport\u001b[0m \u001b[1;33m=\u001b[0m \u001b[0mpd\u001b[0m\u001b[1;33m.\u001b[0m\u001b[0mDataFrame\u001b[0m\u001b[1;33m(\u001b[0m\u001b[0mcolumns\u001b[0m\u001b[1;33m=\u001b[0m\u001b[0mreport_col\u001b[0m\u001b[1;33m)\u001b[0m\u001b[1;33m\u001b[0m\u001b[0m\n\u001b[1;32m---> 33\u001b[1;33m         \u001b[0masset_prices_frame\u001b[0m \u001b[1;33m=\u001b[0m \u001b[0mself\u001b[0m\u001b[1;33m.\u001b[0m\u001b[0masset_model\u001b[0m\u001b[1;33m.\u001b[0m\u001b[0mget_prices_close_frame\u001b[0m\u001b[1;33m(\u001b[0m\u001b[1;33m)\u001b[0m\u001b[1;33m\u001b[0m\u001b[0m\n\u001b[0m\u001b[0;32m     34\u001b[0m         prtf = portfolio.Portfolio(copy.deepcopy(self.initial_portfolio.asset_holdings),\n\u001b[0;32m     35\u001b[0m                                    self.initial_portfolio.cash)\n",
      "\u001b[1;32m~\\_github\\crypto_index\\cqt\\model\\asset_model.py\u001b[0m in \u001b[0;36mget_prices_close_frame\u001b[1;34m(self)\u001b[0m\n\u001b[0;32m     46\u001b[0m             \u001b[0mcomponent\u001b[0m \u001b[1;33m=\u001b[0m \u001b[0mself\u001b[0m\u001b[1;33m.\u001b[0m\u001b[0mmodel_dict\u001b[0m\u001b[1;33m[\u001b[0m\u001b[0mtarget\u001b[0m\u001b[1;33m]\u001b[0m\u001b[1;33m\u001b[0m\u001b[0m\n\u001b[0;32m     47\u001b[0m             \u001b[1;31m# price_dict[component.target]A.merge(B, left_on='lkey', right_on='rkey', how='outer')component.get_price_close()\u001b[0m\u001b[1;33m\u001b[0m\u001b[1;33m\u001b[0m\u001b[0m\n\u001b[1;32m---> 48\u001b[1;33m             \u001b[0mprice_dict\u001b[0m\u001b[1;33m.\u001b[0m\u001b[0mmerge\u001b[0m\u001b[1;33m(\u001b[0m\u001b[0mcomponent\u001b[0m\u001b[1;33m.\u001b[0m\u001b[0mget_price_close\u001b[0m\u001b[1;33m(\u001b[0m\u001b[1;33m)\u001b[0m\u001b[1;33m,\u001b[0m \u001b[0mleft_on\u001b[0m\u001b[1;33m=\u001b[0m\u001b[1;34m'lkey'\u001b[0m\u001b[1;33m,\u001b[0m \u001b[0mright_on\u001b[0m\u001b[1;33m=\u001b[0m\u001b[1;34m'rkey'\u001b[0m\u001b[1;33m,\u001b[0m \u001b[0mhow\u001b[0m\u001b[1;33m=\u001b[0m\u001b[1;34m'outer'\u001b[0m\u001b[1;33m)\u001b[0m\u001b[1;33m\u001b[0m\u001b[0m\n\u001b[0m\u001b[0;32m     49\u001b[0m \u001b[1;33m\u001b[0m\u001b[0m\n\u001b[0;32m     50\u001b[0m         \u001b[1;32mreturn\u001b[0m \u001b[0mprice_dict\u001b[0m\u001b[1;33m\u001b[0m\u001b[0m\n",
      "\u001b[1;32mc:\\users\\weian\\_anaconda3\\envs\\dev\\lib\\site-packages\\pandas\\core\\frame.py\u001b[0m in \u001b[0;36mmerge\u001b[1;34m(self, right, how, on, left_on, right_on, left_index, right_index, sort, suffixes, copy, indicator, validate)\u001b[0m\n\u001b[0;32m   6377\u001b[0m                      \u001b[0mright_on\u001b[0m\u001b[1;33m=\u001b[0m\u001b[0mright_on\u001b[0m\u001b[1;33m,\u001b[0m \u001b[0mleft_index\u001b[0m\u001b[1;33m=\u001b[0m\u001b[0mleft_index\u001b[0m\u001b[1;33m,\u001b[0m\u001b[1;33m\u001b[0m\u001b[0m\n\u001b[0;32m   6378\u001b[0m                      \u001b[0mright_index\u001b[0m\u001b[1;33m=\u001b[0m\u001b[0mright_index\u001b[0m\u001b[1;33m,\u001b[0m \u001b[0msort\u001b[0m\u001b[1;33m=\u001b[0m\u001b[0msort\u001b[0m\u001b[1;33m,\u001b[0m \u001b[0msuffixes\u001b[0m\u001b[1;33m=\u001b[0m\u001b[0msuffixes\u001b[0m\u001b[1;33m,\u001b[0m\u001b[1;33m\u001b[0m\u001b[0m\n\u001b[1;32m-> 6379\u001b[1;33m                      copy=copy, indicator=indicator, validate=validate)\n\u001b[0m\u001b[0;32m   6380\u001b[0m \u001b[1;33m\u001b[0m\u001b[0m\n\u001b[0;32m   6381\u001b[0m     \u001b[1;32mdef\u001b[0m \u001b[0mround\u001b[0m\u001b[1;33m(\u001b[0m\u001b[0mself\u001b[0m\u001b[1;33m,\u001b[0m \u001b[0mdecimals\u001b[0m\u001b[1;33m=\u001b[0m\u001b[1;36m0\u001b[0m\u001b[1;33m,\u001b[0m \u001b[1;33m*\u001b[0m\u001b[0margs\u001b[0m\u001b[1;33m,\u001b[0m \u001b[1;33m**\u001b[0m\u001b[0mkwargs\u001b[0m\u001b[1;33m)\u001b[0m\u001b[1;33m:\u001b[0m\u001b[1;33m\u001b[0m\u001b[0m\n",
      "\u001b[1;32mc:\\users\\weian\\_anaconda3\\envs\\dev\\lib\\site-packages\\pandas\\core\\reshape\\merge.py\u001b[0m in \u001b[0;36mmerge\u001b[1;34m(left, right, how, on, left_on, right_on, left_index, right_index, sort, suffixes, copy, indicator, validate)\u001b[0m\n\u001b[0;32m     58\u001b[0m                          \u001b[0mright_index\u001b[0m\u001b[1;33m=\u001b[0m\u001b[0mright_index\u001b[0m\u001b[1;33m,\u001b[0m \u001b[0msort\u001b[0m\u001b[1;33m=\u001b[0m\u001b[0msort\u001b[0m\u001b[1;33m,\u001b[0m \u001b[0msuffixes\u001b[0m\u001b[1;33m=\u001b[0m\u001b[0msuffixes\u001b[0m\u001b[1;33m,\u001b[0m\u001b[1;33m\u001b[0m\u001b[0m\n\u001b[0;32m     59\u001b[0m                          \u001b[0mcopy\u001b[0m\u001b[1;33m=\u001b[0m\u001b[0mcopy\u001b[0m\u001b[1;33m,\u001b[0m \u001b[0mindicator\u001b[0m\u001b[1;33m=\u001b[0m\u001b[0mindicator\u001b[0m\u001b[1;33m,\u001b[0m\u001b[1;33m\u001b[0m\u001b[0m\n\u001b[1;32m---> 60\u001b[1;33m                          validate=validate)\n\u001b[0m\u001b[0;32m     61\u001b[0m     \u001b[1;32mreturn\u001b[0m \u001b[0mop\u001b[0m\u001b[1;33m.\u001b[0m\u001b[0mget_result\u001b[0m\u001b[1;33m(\u001b[0m\u001b[1;33m)\u001b[0m\u001b[1;33m\u001b[0m\u001b[0m\n\u001b[0;32m     62\u001b[0m \u001b[1;33m\u001b[0m\u001b[0m\n",
      "\u001b[1;32mc:\\users\\weian\\_anaconda3\\envs\\dev\\lib\\site-packages\\pandas\\core\\reshape\\merge.py\u001b[0m in \u001b[0;36m__init__\u001b[1;34m(self, left, right, how, on, left_on, right_on, axis, left_index, right_index, sort, suffixes, copy, indicator, validate)\u001b[0m\n\u001b[0;32m    524\u001b[0m         \u001b[1;32mif\u001b[0m \u001b[1;32mnot\u001b[0m \u001b[0misinstance\u001b[0m\u001b[1;33m(\u001b[0m\u001b[0mright\u001b[0m\u001b[1;33m,\u001b[0m \u001b[0mDataFrame\u001b[0m\u001b[1;33m)\u001b[0m\u001b[1;33m:\u001b[0m\u001b[1;33m\u001b[0m\u001b[0m\n\u001b[0;32m    525\u001b[0m             raise ValueError('can not merge DataFrame with instance of '\n\u001b[1;32m--> 526\u001b[1;33m                              'type {right}'.format(right=type(right)))\n\u001b[0m\u001b[0;32m    527\u001b[0m \u001b[1;33m\u001b[0m\u001b[0m\n\u001b[0;32m    528\u001b[0m         \u001b[1;32mif\u001b[0m \u001b[1;32mnot\u001b[0m \u001b[0mis_bool\u001b[0m\u001b[1;33m(\u001b[0m\u001b[0mleft_index\u001b[0m\u001b[1;33m)\u001b[0m\u001b[1;33m:\u001b[0m\u001b[1;33m\u001b[0m\u001b[0m\n",
      "\u001b[1;31mValueError\u001b[0m: can not merge DataFrame with instance of type <class 'pandas.core.series.Series'>"
     ]
    }
   ],
   "source": [
    "# Long/Short Average\n",
    "\n",
    "ls_rule = {'method' : 'moving_average', 'window_size' : [3, 5], 'tolerance_up' : 0.03, 'tolerance_down' : 0.03}\n",
    "strats = stg_ls.StrategyLongShortAverage(model_btc_eth, ini_pfo, ls_rule)\n",
    "start_date_str = '2017-10-01'\n",
    "start_date = datetime.strptime(start_date_str, '%Y-%m-%d')\n",
    "report = strats.back_testing(start_date)\n",
    "\n",
    "longShortReport = report.copy()"
   ]
  },
  {
   "cell_type": "code",
   "execution_count": null,
   "metadata": {},
   "outputs": [],
   "source": [
    "report = longShortReport\n",
    "strategyName = 'Long Short Average [3, 5] (0.03, 0.03)'\n",
    "report.to_csv(os.path.join(outDir, strategyName+'.csv'), index=False)\n",
    "fig_width = 12\n",
    "fig_height = 12\n",
    "fig, ax0 = plt.subplots(2,1, figsize=(fig_width,fig_height))\n",
    "ax0[0].plot(report['date'], report['total'])\n",
    "ax0[0].plot(report['date'], report['btc_price'] * cash / report['btc_price'][0])\n",
    "ax0[0].set_title('portfolio performance')\n",
    "ax0[1].plot(report['date'], report['pnl'])\n",
    "ax0[1].set_title('daily pnl')\n",
    "fig.suptitle(strategyName)\n",
    "plt.tight_layout(rect=[0, 0.03, 1, 0.97])\n",
    "fig.savefig(os.path.join(outDir, strategyName+'.pdf'))\n",
    "plt.show()\n",
    "\n",
    "print('max daily gain:', report['pnl'].max())\n",
    "print('max daily loss:', report['pnl'].min())"
   ]
  },
  {
   "cell_type": "code",
   "execution_count": null,
   "metadata": {},
   "outputs": [],
   "source": [
    "class StrategyTest(stg.Strategy):\n",
    "    def apply_event_logic(self, time, prtf):\n",
    "        btc = 'btc'\n",
    "        if self.asset_model.has_component(btc):            \n",
    "            comp_btc = self.asset_model.get_component(btc)\n",
    "            ind_btc = comp_btc.signal_double_dip(time, self.rules)\n",
    "            price_btc = comp_btc.get_price_close(time)\n",
    "            \n",
    "            if ind_btc == 1:\n",
    "                prtf.buy(btc, price_btc)\n",
    "            else:\n",
    "                prtf.sell(btc, price_btc)         \n",
    "        return prtf"
   ]
  },
  {
   "cell_type": "code",
   "execution_count": null,
   "metadata": {},
   "outputs": [],
   "source": [
    "dd_rule = {'method' : 'moving_average', 'window_size' : [3, 5], 'tolerance_up' : 0.03, 'tolerance_down' : 0.03}\n",
    "strats = StrategyTest(model_btc_eth, ini_pfo, dd_rule)\n",
    "start_date_str = '2017-10-01'\n",
    "start_date = datetime.strptime(start_date_str, '%Y-%m-%d')\n",
    "report = strats.back_testing(start_date)\n",
    "doubleDipReport = report.copy()"
   ]
  },
  {
   "cell_type": "code",
   "execution_count": null,
   "metadata": {},
   "outputs": [],
   "source": [
    "strategyName = 'Double Dip [3, 5] (0.03, 0.03)'\n",
    "report = doubleDipReport\n",
    "report.to_csv(os.path.join(outDir, strategyName+'.csv'), index=False)\n",
    "fig_width = 12\n",
    "fig_height = 12\n",
    "fig, ax0 = plt.subplots(2,1, figsize=(fig_width,fig_height))\n",
    "ax0[0].plot(report['date'], report['total'])\n",
    "ax0[0].plot(report['date'], report['btc_price'] * cash / report['btc_price'][0])\n",
    "ax0[0].set_title('portfolio performance')\n",
    "ax0[1].plot(report['date'], report['pnl'])\n",
    "ax0[1].set_title('daily pnl')\n",
    "fig.suptitle(strategyName)\n",
    "plt.tight_layout(rect=[0, 0.03, 1, 0.97])\n",
    "fig.savefig(os.path.join(outDir,strategyName+'.pdf'))\n",
    "plt.show()\n",
    "\n",
    "print('max daily gain:', report['pnl'].max())\n",
    "print('max daily loss:', report['pnl'].min())"
   ]
  },
  {
   "cell_type": "code",
   "execution_count": null,
   "metadata": {},
   "outputs": [],
   "source": [
    "# class StrategyBuyTheDips(stg.Strategy):\n",
    "#     def apply_event_logic(self, ticker = 'btc', time, prtf):\n",
    "#         if self.asset_model.has_component(ticker):            \n",
    "#             asset_comp = self.asset_model.get_component(ticker)\n",
    "#             ind_btc = comp_btc.signal_double_dip(time, self.rules)\n",
    "#             price_btc = comp_btc.get_price_close(time)\n",
    "            \n",
    "#             if ind_btc == 1:\n",
    "#                 prtf.buy(btc, price_btc)\n",
    "#             else:\n",
    "#                 prtf.sell(btc, price_btc)         \n",
    "#         return prtf"
   ]
  },
  {
   "cell_type": "code",
   "execution_count": null,
   "metadata": {},
   "outputs": [],
   "source": [
    "# # Long/Short Average\n",
    "\n",
    "# ls_rule = {'method' : 'moving_average', 'window_size' : [3, 5], 'tolerance_up' : 0.03, 'tolerance_down' : 0.03}\n",
    "# strats = stg_ls.StrategyLongShortAverage(model_btc_eth, ini_pfo, ls_rule)\n",
    "# start_date_str = '2017-10-01'\n",
    "# start_date = datetime.strptime(start_date_str, '%Y-%m-%d')\n",
    "# report = strats.back_testing(start_date)\n",
    "\n",
    "# plt.plot(report['date'], report['total'])\n",
    "# plt.plot(report['date'], report['btc_price'] * cash / report['btc_price'][0])\n",
    "# plt.show()\n",
    "# plt.plot(report['date'], report['pnl'])\n",
    "# plt.show()"
   ]
  },
  {
   "cell_type": "code",
   "execution_count": null,
   "metadata": {},
   "outputs": [],
   "source": [
    "# Long/Short Average\n",
    "\n",
    "ls_rule = {'method' : 'moving_average', 'window_size' : [3, 5], 'tolerance_up' : 0.03, 'tolerance_down' : 0.03}\n",
    "strats = stg_ls.StrategyInverseLongShortAverage(model_btc_eth, ini_pfo, ls_rule)\n",
    "start_date_str = '2017-10-01'\n",
    "start_date = datetime.strptime(start_date_str, '%Y-%m-%d')\n",
    "report = strats.back_testing(start_date)\n",
    "inverseLongShortAverageReport = report.copy()"
   ]
  },
  {
   "cell_type": "code",
   "execution_count": null,
   "metadata": {},
   "outputs": [],
   "source": [
    "report = inverseLongShortAverageReport\n",
    "strategyName = 'Inverse Long Short Average [3, 5] (0.03, 0.03)'\n",
    "report.to_csv(os.path.join(outDir, strategyName+'.csv'), index=False)\n",
    "fig_width = 12\n",
    "fig_height = 12\n",
    "fig, ax0 = plt.subplots(2,1, figsize=(fig_width,fig_height))\n",
    "ax0[0].plot(report['date'], report['total'])\n",
    "ax0[0].plot(report['date'], report['btc_price'] * cash / report['btc_price'][0])\n",
    "ax0[0].set_title('portfolio performance')\n",
    "ax0[1].plot(report['date'], report['pnl'])\n",
    "ax0[1].set_title('daily pnl')\n",
    "fig.suptitle(strategyName)\n",
    "plt.tight_layout(rect=[0, 0.03, 1, 0.97])\n",
    "fig.savefig(os.path.join(outDir, strategyName+'.pdf'))\n",
    "plt.show()\n",
    "\n",
    "print('max daily gain:', report['pnl'].max())\n",
    "print('max daily loss:', report['pnl'].min())"
   ]
  },
  {
   "cell_type": "code",
   "execution_count": null,
   "metadata": {},
   "outputs": [],
   "source": []
  }
 ],
 "metadata": {
  "kernelspec": {
   "display_name": "Python 3",
   "language": "python",
   "name": "python3"
  },
  "language_info": {
   "codemirror_mode": {
    "name": "ipython",
    "version": 3
   },
   "file_extension": ".py",
   "mimetype": "text/x-python",
   "name": "python",
   "nbconvert_exporter": "python",
   "pygments_lexer": "ipython3",
   "version": "3.6.4"
  }
 },
 "nbformat": 4,
 "nbformat_minor": 2
}
