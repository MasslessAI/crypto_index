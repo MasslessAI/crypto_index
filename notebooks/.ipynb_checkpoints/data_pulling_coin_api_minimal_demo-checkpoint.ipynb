{
 "cells": [
  {
   "cell_type": "markdown",
   "metadata": {},
   "source": [
    "# Minimal Demo Notebook for coinapi\n",
    "\n",
    "This is a short demo for calling the coinapi from python"
   ]
  },
  {
   "cell_type": "code",
   "execution_count": 1,
   "metadata": {},
   "outputs": [],
   "source": [
    "import requests\n",
    "# This note book uses the requests \n",
    "# Alternatively, we can also use urllib or urllib2\n",
    "\n",
    "import pandas as pd\n",
    "# use pandas to display data in this demo\n",
    "# Do not recommend to use pandas in the data pulling module\n",
    "\n",
    "import numpy as np"
   ]
  },
  {
   "cell_type": "code",
   "execution_count": 2,
   "metadata": {},
   "outputs": [],
   "source": [
    "## A direct copy of an example from the coinAPI website\n",
    "# url = 'https://rest.coinapi.io/v1/ohlcv/periods'\n",
    "\n",
    "## please replace string 'D99DDB0D-A31D-4B04-AE6F-78990C76BBC2' with your own key\n",
    "# headers = {'X-CoinAPI-Key' : 'D99DDB0D-A31D-4B04-AE6F-78990C76BBC2'}\n",
    "# response = requests.get(url, headers=headers)\n",
    "# a successful response should have status 200\n",
    "# print(response)"
   ]
  },
  {
   "cell_type": "code",
   "execution_count": 4,
   "metadata": {},
   "outputs": [
    {
     "name": "stdout",
     "output_type": "stream",
     "text": [
      "<Response [429]>\n"
     ]
    }
   ],
   "source": [
    "myKey = '540CD3E9-AA29-4352-B0B4-441188C65BCB'\n",
    "url = 'https://rest.coinapi.io/v1/exchangerate/BTC/USD'\n",
    "headers = {'X-CoinAPI-Key' : myKey}\n",
    "response = requests.get(url, headers=headers)\n",
    "print(response)"
   ]
  },
  {
   "cell_type": "code",
   "execution_count": 5,
   "metadata": {},
   "outputs": [
    {
     "name": "stdout",
     "output_type": "stream",
     "text": [
      "{'time': '2018-03-26T02:43:32.1519052Z', 'asset_id_base': 'BTC', 'asset_id_quote': 'USD', 'rate': 8407.75363803588}\n"
     ]
    }
   ],
   "source": [
    "# obtain the content of the response\n",
    "jsonStr = response.json()\n",
    "\n",
    "# the content is contained in a json string\n",
    "# and can be parsed as a dictionary type in python\n",
    "print(jsonStr)"
   ]
  },
  {
   "cell_type": "code",
   "execution_count": 6,
   "metadata": {},
   "outputs": [],
   "source": [
    "# import pandas as pd\n",
    "# df = pd.DataFrame()\n",
    "# for jsonStr in jsonStrList:\n",
    "#     df = df.append(jsonStr, ignore_index=True)"
   ]
  },
  {
   "cell_type": "code",
   "execution_count": 7,
   "metadata": {},
   "outputs": [
    {
     "data": {
      "text/html": [
       "<div>\n",
       "<style scoped>\n",
       "    .dataframe tbody tr th:only-of-type {\n",
       "        vertical-align: middle;\n",
       "    }\n",
       "\n",
       "    .dataframe tbody tr th {\n",
       "        vertical-align: top;\n",
       "    }\n",
       "\n",
       "    .dataframe thead th {\n",
       "        text-align: right;\n",
       "    }\n",
       "</style>\n",
       "<table border=\"1\" class=\"dataframe\">\n",
       "  <thead>\n",
       "    <tr style=\"text-align: right;\">\n",
       "      <th></th>\n",
       "      <th>asset_id_base</th>\n",
       "      <th>asset_id_quote</th>\n",
       "      <th>rate</th>\n",
       "      <th>time</th>\n",
       "    </tr>\n",
       "  </thead>\n",
       "  <tbody>\n",
       "    <tr>\n",
       "      <th>0</th>\n",
       "      <td>BTC</td>\n",
       "      <td>USD</td>\n",
       "      <td>8407.753638</td>\n",
       "      <td>2018-03-26T02:43:32.1519052Z</td>\n",
       "    </tr>\n",
       "  </tbody>\n",
       "</table>\n",
       "</div>"
      ],
      "text/plain": [
       "  asset_id_base asset_id_quote         rate                          time\n",
       "0           BTC            USD  8407.753638  2018-03-26T02:43:32.1519052Z"
      ]
     },
     "execution_count": 7,
     "metadata": {},
     "output_type": "execute_result"
    }
   ],
   "source": [
    "# Let's append this to a pandas dataframe\n",
    "df = pd.DataFrame()\n",
    "df = df.append(jsonStr, ignore_index=True)\n",
    "df.head()"
   ]
  },
  {
   "cell_type": "code",
   "execution_count": 8,
   "metadata": {},
   "outputs": [
    {
     "data": {
      "text/plain": [
       "str"
      ]
     },
     "execution_count": 8,
     "metadata": {},
     "output_type": "execute_result"
    }
   ],
   "source": [
    "# Right now, pandas still considers the timestamp as a str\n",
    "timestamp=df.iloc[0].time\n",
    "type(timestamp)"
   ]
  },
  {
   "cell_type": "code",
   "execution_count": 9,
   "metadata": {},
   "outputs": [
    {
     "name": "stderr",
     "output_type": "stream",
     "text": [
      "C:\\ProgramData\\Anaconda3\\lib\\site-packages\\ipykernel_launcher.py:4: DeprecationWarning: parsing timezone aware datetimes is deprecated; this will raise an error in the future\n",
      "  after removing the cwd from sys.path.\n"
     ]
    },
    {
     "data": {
      "text/plain": [
       "numpy.datetime64('2018-03-26T02:43:32.151905200')"
      ]
     },
     "execution_count": 9,
     "metadata": {},
     "output_type": "execute_result"
    }
   ],
   "source": [
    "# In pandas, timestamp is often can be parsed as numpy.datetime64 type\n",
    "# Note: numpy.datetime64 has undergone several design evolution in different versions of numpy\n",
    "# The API has minor changes from version to version\n",
    "np.datetime64(timestamp)"
   ]
  },
  {
   "cell_type": "code",
   "execution_count": null,
   "metadata": {},
   "outputs": [],
   "source": []
  }
 ],
 "metadata": {
  "kernelspec": {
   "display_name": "Python 3",
   "language": "python",
   "name": "python3"
  },
  "language_info": {
   "codemirror_mode": {
    "name": "ipython",
    "version": 3
   },
   "file_extension": ".py",
   "mimetype": "text/x-python",
   "name": "python",
   "nbconvert_exporter": "python",
   "pygments_lexer": "ipython3",
   "version": "3.6.4"
  }
 },
 "nbformat": 4,
 "nbformat_minor": 2
}
