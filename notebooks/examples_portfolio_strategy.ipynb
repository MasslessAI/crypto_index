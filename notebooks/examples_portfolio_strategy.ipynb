{
 "cells": [
  {
   "cell_type": "code",
   "execution_count": 2,
   "metadata": {},
   "outputs": [],
   "source": [
    "import sys\n",
    "sys.path.append('../')\n",
    "\n",
    "import cqt\n",
    "import cqt.env as env\n",
    "import cqt.ledger.ledger as ledger\n",
    "import cqt.strats.strategy as stg\n",
    "import cqt.strats.strategy_double_dip as sdd\n",
    "import pandas as pd\n",
    "import pickle\n",
    "\n",
    "from datetime import datetime\n",
    "from datetime import timedelta\n",
    "import matplotlib.pyplot as plt"
   ]
  },
  {
   "cell_type": "code",
   "execution_count": 3,
   "metadata": {},
   "outputs": [
    {
     "ename": "ModuleNotFoundError",
     "evalue": "No module named 'cqt.model'",
     "output_type": "error",
     "traceback": [
      "\u001b[1;31m---------------------------------------------------------------------------\u001b[0m",
      "\u001b[1;31mModuleNotFoundError\u001b[0m                       Traceback (most recent call last)",
      "\u001b[1;32m<ipython-input-3-6b99fa52b618>\u001b[0m in \u001b[0;36m<module>\u001b[1;34m()\u001b[0m\n\u001b[0;32m      1\u001b[0m \u001b[0mfile_btc_eth\u001b[0m \u001b[1;33m=\u001b[0m \u001b[0mopen\u001b[0m\u001b[1;33m(\u001b[0m\u001b[1;34m'../data/pickle/model_btc_eth.pickle'\u001b[0m\u001b[1;33m,\u001b[0m\u001b[1;34m'rb'\u001b[0m\u001b[1;33m)\u001b[0m\u001b[1;33m\u001b[0m\u001b[0m\n\u001b[1;32m----> 2\u001b[1;33m \u001b[0menv_btc_eth\u001b[0m \u001b[1;33m=\u001b[0m \u001b[0mpickle\u001b[0m\u001b[1;33m.\u001b[0m\u001b[0mload\u001b[0m\u001b[1;33m(\u001b[0m\u001b[0mfile_btc_eth\u001b[0m\u001b[1;33m)\u001b[0m\u001b[1;33m\u001b[0m\u001b[0m\n\u001b[0m",
      "\u001b[1;31mModuleNotFoundError\u001b[0m: No module named 'cqt.model'"
     ]
    }
   ],
   "source": [
    "file_btc_eth = open('../data/pickle/model_btc_eth.pickle','rb')\n",
    "env_btc_eth = pickle.load(file_btc_eth)"
   ]
  },
  {
   "cell_type": "code",
   "execution_count": null,
   "metadata": {},
   "outputs": [],
   "source": [
    "# init portfolio\n",
    "\n",
    "cash = 100000\n",
    "assets = {'btc': 0, 'eth': 0}\n",
    "ini_pfo = pfo.Portfolio(assets, cash)"
   ]
  },
  {
   "cell_type": "code",
   "execution_count": null,
   "metadata": {},
   "outputs": [],
   "source": [
    "# Long/Short Average\n",
    "\n",
    "ls_rule = {'method' : 'moving_average', \n",
    "           'window_size' : [5, 15], \n",
    "           'tolerance_up' : 0.0, \n",
    "           'tolerance_down' : 0.0,\n",
    "           'damping_factor' : 1.0}\n",
    "strats = stg_ls.StrategyLongShortAverage(model_btc_eth, ini_pfo, ls_rule)\n",
    "start_date_str = '2018-02-01'\n",
    "start_date = datetime.strptime(start_date_str, '%Y-%m-%d')\n",
    "report = strats.back_testing(start_date)\n",
    "\n",
    "plt.plot(report['date'], report['total'])\n",
    "plt.plot(report['date'], report['btc_price'] * cash / report['btc_price'][0])\n",
    "plt.show()\n",
    "plt.plot(report['date'], report['pnl'])\n",
    "plt.show()"
   ]
  },
  {
   "cell_type": "code",
   "execution_count": null,
   "metadata": {},
   "outputs": [],
   "source": [
    "comp_btc = model_btc_eth.get_component('btc')\n",
    "comp_btc.plot_close_moving_average([5,30])"
   ]
  },
  {
   "cell_type": "code",
   "execution_count": null,
   "metadata": {},
   "outputs": [],
   "source": [
    "class StrategyTest(stg.Strategy):\n",
    "    def apply_event_logic(self, time, prtf):\n",
    "        btc = 'btc'\n",
    "        if self.asset_model.has_component(btc):            \n",
    "            comp_btc = self.asset_model.get_component(btc)\n",
    "            ind_btc = comp_btc.signal_double_dip(time, self.rules)\n",
    "            price_btc = comp_btc.get_price_close(time)\n",
    "            \n",
    "            if ind_btc == 1:\n",
    "                prtf.buy(btc, price_btc)\n",
    "            else:\n",
    "                prtf.sell(btc, price_btc)\n",
    "            \n",
    "            asset_prices = self.asset_model.get_prices_close(time)\n",
    "            \n",
    "            if prtf.value(asset_prices) > 1.05 * 100000:\n",
    "                prtf.set_aside()\n",
    "            \n",
    "            \n",
    "        return prtf"
   ]
  },
  {
   "cell_type": "code",
   "execution_count": null,
   "metadata": {},
   "outputs": [],
   "source": [
    "dd_rule = {'method' : 'moving_average', 'window_size' : [7, 20], 'tolerance_up' : 0.0, 'tolerance_down' : 0.0}\n",
    "strats = StrategyTest(model_btc_eth, ini_pfo, dd_rule)\n",
    "start_date_str = '2018-01-01'\n",
    "start_date = datetime.strptime(start_date_str, '%Y-%m-%d')\n",
    "report = strats.back_testing(start_date)\n",
    "\n",
    "plt.plot(report['date'], report['total'])\n",
    "plt.plot(report['date'], report['btc_price'] * cash / report['btc_price'][0])\n",
    "plt.show()\n",
    "plt.plot(report['date'], report['pnl'])\n",
    "plt.show()"
   ]
  },
  {
   "cell_type": "code",
   "execution_count": null,
   "metadata": {},
   "outputs": [],
   "source": [
    "print(report)"
   ]
  },
  {
   "cell_type": "code",
   "execution_count": null,
   "metadata": {},
   "outputs": [],
   "source": []
  }
 ],
 "metadata": {
  "kernelspec": {
   "display_name": "Python 3",
   "language": "python",
   "name": "python3"
  },
  "language_info": {
   "codemirror_mode": {
    "name": "ipython",
    "version": 3
   },
   "file_extension": ".py",
   "mimetype": "text/x-python",
   "name": "python",
   "nbconvert_exporter": "python",
   "pygments_lexer": "ipython3",
   "version": "3.6.2"
  }
 },
 "nbformat": 4,
 "nbformat_minor": 2
}
